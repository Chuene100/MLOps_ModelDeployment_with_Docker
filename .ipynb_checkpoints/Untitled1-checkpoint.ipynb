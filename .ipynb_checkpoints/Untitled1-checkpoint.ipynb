{
 "cells": [
  {
   "cell_type": "code",
   "execution_count": 130,
   "metadata": {},
   "outputs": [],
   "source": [
    "import pandas as pd\n",
    "from collections import Counter"
   ]
  },
  {
   "cell_type": "code",
   "execution_count": 3,
   "metadata": {},
   "outputs": [],
   "source": [
    "data = pd.read_csv(\"names_data_candidate.csv\")"
   ]
  },
  {
   "cell_type": "code",
   "execution_count": 99,
   "metadata": {},
   "outputs": [],
   "source": [
    "data.dirty_name = data.dirty_name.apply(lambda x: x.lower())"
   ]
  },
  {
   "cell_type": "code",
   "execution_count": 100,
   "metadata": {},
   "outputs": [
    {
     "data": {
      "text/html": [
       "<div>\n",
       "<style scoped>\n",
       "    .dataframe tbody tr th:only-of-type {\n",
       "        vertical-align: middle;\n",
       "    }\n",
       "\n",
       "    .dataframe tbody tr th {\n",
       "        vertical-align: top;\n",
       "    }\n",
       "\n",
       "    .dataframe thead th {\n",
       "        text-align: right;\n",
       "    }\n",
       "</style>\n",
       "<table border=\"1\" class=\"dataframe\">\n",
       "  <thead>\n",
       "    <tr style=\"text-align: right;\">\n",
       "      <th></th>\n",
       "      <th>dirty_name</th>\n",
       "      <th>dirty_label</th>\n",
       "    </tr>\n",
       "  </thead>\n",
       "  <tbody>\n",
       "    <tr>\n",
       "      <th>1567</th>\n",
       "      <td>dumisani williams</td>\n",
       "      <td>Person</td>\n",
       "    </tr>\n",
       "    <tr>\n",
       "      <th>3321</th>\n",
       "      <td>jabulani harrison</td>\n",
       "      <td>Person</td>\n",
       "    </tr>\n",
       "    <tr>\n",
       "      <th>987</th>\n",
       "      <td>hon. ingrid jordaan</td>\n",
       "      <td>Person</td>\n",
       "    </tr>\n",
       "    <tr>\n",
       "      <th>1191</th>\n",
       "      <td>merola verrills</td>\n",
       "      <td>Person</td>\n",
       "    </tr>\n",
       "    <tr>\n",
       "      <th>3177</th>\n",
       "      <td>nicol flacknoe</td>\n",
       "      <td>Person</td>\n",
       "    </tr>\n",
       "  </tbody>\n",
       "</table>\n",
       "</div>"
      ],
      "text/plain": [
       "               dirty_name dirty_label\n",
       "1567    dumisani williams      Person\n",
       "3321    jabulani harrison      Person\n",
       "987   hon. ingrid jordaan      Person\n",
       "1191      merola verrills      Person\n",
       "3177       nicol flacknoe      Person"
      ]
     },
     "execution_count": 100,
     "metadata": {},
     "output_type": "execute_result"
    }
   ],
   "source": [
    "data.sample(frac=1.0).head(5)"
   ]
  },
  {
   "cell_type": "code",
   "execution_count": 9,
   "metadata": {},
   "outputs": [
    {
     "data": {
      "text/plain": [
       "array(['Person', 'Company', 'University'], dtype=object)"
      ]
     },
     "execution_count": 9,
     "metadata": {},
     "output_type": "execute_result"
    }
   ],
   "source": [
    "pd.unique(data.dirty_label)"
   ]
  },
  {
   "cell_type": "code",
   "execution_count": 101,
   "metadata": {},
   "outputs": [],
   "source": [
    "person = data[data.dirty_label== 'Person']\n",
    "company = data[data.dirty_label== 'Company']\n",
    "university = data[data.dirty_label== 'University']"
   ]
  },
  {
   "cell_type": "code",
   "execution_count": 102,
   "metadata": {},
   "outputs": [
    {
     "data": {
      "text/plain": [
       "((3690, 2), (98, 2), (732, 2))"
      ]
     },
     "execution_count": 102,
     "metadata": {},
     "output_type": "execute_result"
    }
   ],
   "source": [
    "person.shape, university.shape, company.shape"
   ]
  },
  {
   "cell_type": "code",
   "execution_count": 109,
   "metadata": {},
   "outputs": [],
   "source": [
    "vectorizer_per = dict(Counter(person.dirty_name.to_list()))\n",
    "vectorizer_com = dict(Counter(company.dirty_name.to_list()))\n",
    "vectorizer_uni = dict(Counter(university.dirty_name.to_list()))"
   ]
  },
  {
   "cell_type": "code",
   "execution_count": 167,
   "metadata": {},
   "outputs": [],
   "source": [
    "def word_count_fun(dictionary):\n",
    "    list_vec = list(dictionary.keys())\n",
    "    full_list = []\n",
    "    for x in list_vec:\n",
    "        x1 = x.split()\n",
    "        for x2 in x1:\n",
    "            full_list.append(x2)\n",
    "    return  full_list\n",
    "    "
   ]
  },
  {
   "cell_type": "code",
   "execution_count": 173,
   "metadata": {},
   "outputs": [],
   "source": [
    "count_per =pd.DataFrame(list(dict(Counter(word_count_fun(vectorizer_per))).items()),columns = ['names','counting'])\\\n",
    "                                    .sort_values(\"counting\", ascending=False)\n",
    "\n",
    "count_com =pd.DataFrame(list(dict(Counter(word_count_fun(vectorizer_com))).items()),columns = ['names','counting'])\\\n",
    "                                    .sort_values(\"counting\", ascending=False)\n",
    "\n",
    "count_uni =pd.DataFrame(list(dict(Counter(word_count_fun(vectorizer_uni))).items()),columns = ['names','counting'])\\\n",
    "                                    .sort_values(\"counting\", ascending=False)"
   ]
  },
  {
   "cell_type": "code",
   "execution_count": 196,
   "metadata": {},
   "outputs": [],
   "source": [
    "university_list = ['université', 'university', 'universitas', 'universitaria', 'universidade', 'universidad',\\\n",
    "                   'tecnológica', 'technology','science', 'school', \"medicine\",'instituto', 'institute',\n",
    "                  \"health\", 'educativas', 'education', 'academy']\n",
    "company_list = ['ltd', 'pty', 'pl', 'co.', 'cc', 'ltd.', 'limited', 'gmbh''trust', 'co', 'fund', '(pty)', \\\n",
    "                'group', 'family', 'inc.','company', 'consortium','inc', 'c.c.', 'limited.', 'unltd', 'cc.', \\\n",
    "                'llc.', 'corp.', 'funds', 'pllc.', 'services', 'partnership', 'corp', '(ltd).', 'trading',\\\n",
    "               \"proprietary\", 'lda.', 'lda', 'investments', 'trudoo', '(ltd)', 'capital',  'associates', \\\n",
    "                \"sicav\", 'plc.', 'plc', 'incorporated', 'l.l.p',]\n",
    "\n",
    "person_list = ['miss', 'dr.', 'prof.', 'dr', 'mr.', 'mr', 'mrs', 'mrs.', 'van','hon.', 'rev.', 'ms', 'sr.', \\\n",
    "               'ms.']"
   ]
  },
  {
   "cell_type": "code",
   "execution_count": 84,
   "metadata": {},
   "outputs": [
    {
     "data": {
      "text/plain": [
       "dict"
      ]
     },
     "execution_count": 84,
     "metadata": {},
     "output_type": "execute_result"
    }
   ],
   "source": [
    "type(vectorizer_uni.vocabulary_)"
   ]
  },
  {
   "cell_type": "code",
   "execution_count": 188,
   "metadata": {},
   "outputs": [
    {
     "data": {
      "text/plain": [
       "array(['ltd', 'pty', 'pl', 'co.', 'cc', 'ltd.', 'gmbh', 'limited',\n",
       "       'trust', 'co', 'fund', '(pty)', 'group', 'family', 'dr.', 'inc.',\n",
       "       'company', 'consortium', '&', 'l.p.', 'and', 'miss', 'fd', 'inc',\n",
       "       'c.c.', 'prof.', 'limited.', 'edgeclub', 'jv', 'mrs', 'unltd',\n",
       "       'cc.', 'llc.', 'corp.', 'funds', 'pllc.', 'services', 'africa',\n",
       "       'mr.', 'bond', 'partnership', 'corp', '(ltd).', 'sr.', 'mydo',\n",
       "       'trading', 'proprietary', 'mrs.', 'lda.', 'topiczoom',\n",
       "       'investments', 'trudoo', 'soc.col', 'mr', 'of', '(ltd)', 'dr',\n",
       "       'capital', 'ms.', 'sicav', 'oyonder', 'associates', 'flashdog',\n",
       "       'zazio', 'cogilith', 'bubblemix', 'yodel', 'gabtype', 'topicstorm',\n",
       "       'van', 'zoomlounge', 'mynte', 'plc.', 'realcube', 's.p.',\n",
       "       'feedfire', 'linktype', 'skidoo', 'skalith', 'quinu', 'devcast',\n",
       "       'linkbridge', 'yadel', 'incorporated', 'skinix', 'jazzy',\n",
       "       'private', 'meevee', 'skyvu', 'youopia', 'plc', 'roodel', 'tekfly',\n",
       "       'viva', 'layo', 'trilith', 'avamm', 'corporation', 'eayo',\n",
       "       'tagchat', 'twitterlist', 'innotype', 'asia', 'pixonyx', 'rooxo',\n",
       "       'thoughtbeat', 'zooxo', 'dabvine', 'brainsphere', 'vimbo',\n",
       "       'yambee', 'wordify', 'stg', 'feedmix', 'shufflebeat', 'thandi',\n",
       "       'l.l.p', 'youspan', 'bubblebox', 'brainverse', 'lazz', 'janyx',\n",
       "       'zoombeat', 'yozio', 'foundation', 'photospace', 'devbug',\n",
       "       'meembee', 'linkbuzz', 'holdings', 'yakitri', 'linq', 'meedoo',\n",
       "       'african', 'eire', 'linklinks', 'camido', 'realbuzz'], dtype=object)"
      ]
     },
     "execution_count": 188,
     "metadata": {},
     "output_type": "execute_result"
    }
   ],
   "source": [
    "count_com[count_com.counting>3][\"names\"].values"
   ]
  },
  {
   "cell_type": "code",
   "execution_count": 195,
   "metadata": {},
   "outputs": [
    {
     "data": {
      "text/plain": [
       "array(['miss', 'dr.', 'prof.', 'dr', 'mr.', 'mr', 'mrs', 'mrs.', 'van',\n",
       "       'hon.', 'rev.', 'ms', 'sr.', 'ms.'], dtype=object)"
      ]
     },
     "execution_count": 195,
     "metadata": {},
     "output_type": "execute_result"
    }
   ],
   "source": [
    "count_per[count_per.counting>40][\"names\"].values"
   ]
  },
  {
   "cell_type": "code",
   "execution_count": 198,
   "metadata": {},
   "outputs": [
    {
     "name": "stdout",
     "output_type": "stream",
     "text": [
      "the\n",
      "I\n"
     ]
    }
   ],
   "source": [
    "a3 = [\"Just\", \"making\",\"that\", \"has\", \"the\", \"and\", \"I\"]\n",
    "for i in \"this is the sentece I\".split():\n",
    "    if i in a3:\n",
    "        print(i)\n",
    "    \n",
    "    "
   ]
  },
  {
   "cell_type": "code",
   "execution_count": 231,
   "metadata": {},
   "outputs": [],
   "source": [
    "def mapping_func(dirtyname):\n",
    "    return_value = ''\n",
    "    for i in dirtyname.split():\n",
    "        #print(i)\n",
    "        if i in university_list:\n",
    "            return_value =  \"University\"\n",
    "            break\n",
    "        elif i in company_list:\n",
    "            return_value = \"Company\"\n",
    "            break\n",
    "        elif not return_value:\n",
    "            return_value = \"Person\"\n",
    "        \n",
    "    return return_value\n",
    "        \n",
    "    "
   ]
  },
  {
   "cell_type": "code",
   "execution_count": 228,
   "metadata": {},
   "outputs": [
    {
     "name": "stdout",
     "output_type": "stream",
     "text": [
      "ms\n",
      "sydney\n",
      "hadebe\n"
     ]
    },
    {
     "data": {
      "text/plain": [
       "'Person'"
      ]
     },
     "execution_count": 228,
     "metadata": {},
     "output_type": "execute_result"
    }
   ],
   "source": [
    "mapping_func(\"ms sydney hadebe \")"
   ]
  },
  {
   "cell_type": "code",
   "execution_count": 232,
   "metadata": {},
   "outputs": [],
   "source": [
    "data[\"semi_clean_label\"] = data.dirty_name.apply(mapping_func)"
   ]
  },
  {
   "cell_type": "code",
   "execution_count": 233,
   "metadata": {},
   "outputs": [
    {
     "data": {
      "text/html": [
       "<div>\n",
       "<style scoped>\n",
       "    .dataframe tbody tr th:only-of-type {\n",
       "        vertical-align: middle;\n",
       "    }\n",
       "\n",
       "    .dataframe tbody tr th {\n",
       "        vertical-align: top;\n",
       "    }\n",
       "\n",
       "    .dataframe thead th {\n",
       "        text-align: right;\n",
       "    }\n",
       "</style>\n",
       "<table border=\"1\" class=\"dataframe\">\n",
       "  <thead>\n",
       "    <tr style=\"text-align: right;\">\n",
       "      <th></th>\n",
       "      <th>dirty_name</th>\n",
       "      <th>dirty_label</th>\n",
       "      <th>semi_clean_label</th>\n",
       "    </tr>\n",
       "  </thead>\n",
       "  <tbody>\n",
       "    <tr>\n",
       "      <th>0</th>\n",
       "      <td>wright pentlow</td>\n",
       "      <td>Person</td>\n",
       "      <td>Person</td>\n",
       "    </tr>\n",
       "    <tr>\n",
       "      <th>1</th>\n",
       "      <td>ms sydney hadebe</td>\n",
       "      <td>Person</td>\n",
       "      <td>Person</td>\n",
       "    </tr>\n",
       "    <tr>\n",
       "      <th>2</th>\n",
       "      <td>prof. hennie vorster</td>\n",
       "      <td>Person</td>\n",
       "      <td>Person</td>\n",
       "    </tr>\n",
       "    <tr>\n",
       "      <th>3</th>\n",
       "      <td>enrica hayter</td>\n",
       "      <td>Person</td>\n",
       "      <td>Person</td>\n",
       "    </tr>\n",
       "    <tr>\n",
       "      <th>4</th>\n",
       "      <td>teboho ngema</td>\n",
       "      <td>Person</td>\n",
       "      <td>Person</td>\n",
       "    </tr>\n",
       "    <tr>\n",
       "      <th>...</th>\n",
       "      <td>...</td>\n",
       "      <td>...</td>\n",
       "      <td>...</td>\n",
       "    </tr>\n",
       "    <tr>\n",
       "      <th>4515</th>\n",
       "      <td>duff forre</td>\n",
       "      <td>Person</td>\n",
       "      <td>Person</td>\n",
       "    </tr>\n",
       "    <tr>\n",
       "      <th>4516</th>\n",
       "      <td>dr mr. neil morgan</td>\n",
       "      <td>Person</td>\n",
       "      <td>Person</td>\n",
       "    </tr>\n",
       "    <tr>\n",
       "      <th>4517</th>\n",
       "      <td>hon. thandi move</td>\n",
       "      <td>Person</td>\n",
       "      <td>Person</td>\n",
       "    </tr>\n",
       "    <tr>\n",
       "      <th>4518</th>\n",
       "      <td>thandi move</td>\n",
       "      <td>Person</td>\n",
       "      <td>Person</td>\n",
       "    </tr>\n",
       "    <tr>\n",
       "      <th>4519</th>\n",
       "      <td>mr. thandi move</td>\n",
       "      <td>Person</td>\n",
       "      <td>Person</td>\n",
       "    </tr>\n",
       "  </tbody>\n",
       "</table>\n",
       "<p>4520 rows × 3 columns</p>\n",
       "</div>"
      ],
      "text/plain": [
       "                dirty_name dirty_label semi_clean_label\n",
       "0           wright pentlow      Person           Person\n",
       "1         ms sydney hadebe      Person           Person\n",
       "2     prof. hennie vorster      Person           Person\n",
       "3            enrica hayter      Person           Person\n",
       "4             teboho ngema      Person           Person\n",
       "...                    ...         ...              ...\n",
       "4515            duff forre      Person           Person\n",
       "4516    dr mr. neil morgan      Person           Person\n",
       "4517      hon. thandi move      Person           Person\n",
       "4518           thandi move      Person           Person\n",
       "4519       mr. thandi move      Person           Person\n",
       "\n",
       "[4520 rows x 3 columns]"
      ]
     },
     "execution_count": 233,
     "metadata": {},
     "output_type": "execute_result"
    }
   ],
   "source": [
    "data"
   ]
  },
  {
   "cell_type": "code",
   "execution_count": 203,
   "metadata": {},
   "outputs": [
    {
     "name": "stdout",
     "output_type": "stream",
     "text": [
      "['Person' 'Company' 'University'] ['Person' 'University' 'Company']\n"
     ]
    }
   ],
   "source": [
    "print(pd.unique(data.dirty_label), pd.unique(data.semi_clean_label))"
   ]
  },
  {
   "cell_type": "code",
   "execution_count": 234,
   "metadata": {},
   "outputs": [
    {
     "data": {
      "text/html": [
       "<div>\n",
       "<style scoped>\n",
       "    .dataframe tbody tr th:only-of-type {\n",
       "        vertical-align: middle;\n",
       "    }\n",
       "\n",
       "    .dataframe tbody tr th {\n",
       "        vertical-align: top;\n",
       "    }\n",
       "\n",
       "    .dataframe thead th {\n",
       "        text-align: right;\n",
       "    }\n",
       "</style>\n",
       "<table border=\"1\" class=\"dataframe\">\n",
       "  <thead>\n",
       "    <tr style=\"text-align: right;\">\n",
       "      <th></th>\n",
       "      <th>dirty_name</th>\n",
       "      <th>dirty_label</th>\n",
       "      <th>semi_clean_label</th>\n",
       "    </tr>\n",
       "  </thead>\n",
       "  <tbody>\n",
       "    <tr>\n",
       "      <th>14</th>\n",
       "      <td>imibono fuels</td>\n",
       "      <td>Company</td>\n",
       "      <td>Person</td>\n",
       "    </tr>\n",
       "    <tr>\n",
       "      <th>17</th>\n",
       "      <td>prof. frederick turner</td>\n",
       "      <td>Company</td>\n",
       "      <td>Person</td>\n",
       "    </tr>\n",
       "    <tr>\n",
       "      <th>23</th>\n",
       "      <td>kenny coursor</td>\n",
       "      <td>Company</td>\n",
       "      <td>Person</td>\n",
       "    </tr>\n",
       "    <tr>\n",
       "      <th>28</th>\n",
       "      <td>keeley gabbidon</td>\n",
       "      <td>Company</td>\n",
       "      <td>Person</td>\n",
       "    </tr>\n",
       "    <tr>\n",
       "      <th>32</th>\n",
       "      <td>photospace  topicstorm bubbletube zoomlounge f...</td>\n",
       "      <td>Company</td>\n",
       "      <td>Person</td>\n",
       "    </tr>\n",
       "    <tr>\n",
       "      <th>...</th>\n",
       "      <td>...</td>\n",
       "      <td>...</td>\n",
       "      <td>...</td>\n",
       "    </tr>\n",
       "    <tr>\n",
       "      <th>4461</th>\n",
       "      <td>blue sky leisure developments (pty) ltd</td>\n",
       "      <td>Person</td>\n",
       "      <td>Company</td>\n",
       "    </tr>\n",
       "    <tr>\n",
       "      <th>4498</th>\n",
       "      <td>marie-josée rowsel</td>\n",
       "      <td>Company</td>\n",
       "      <td>Person</td>\n",
       "    </tr>\n",
       "    <tr>\n",
       "      <th>4510</th>\n",
       "      <td>fikile ndebele</td>\n",
       "      <td>Company</td>\n",
       "      <td>Person</td>\n",
       "    </tr>\n",
       "    <tr>\n",
       "      <th>4511</th>\n",
       "      <td>fikile ndebele</td>\n",
       "      <td>Company</td>\n",
       "      <td>Person</td>\n",
       "    </tr>\n",
       "    <tr>\n",
       "      <th>4512</th>\n",
       "      <td>fikile m ndebele</td>\n",
       "      <td>Company</td>\n",
       "      <td>Person</td>\n",
       "    </tr>\n",
       "  </tbody>\n",
       "</table>\n",
       "<p>347 rows × 3 columns</p>\n",
       "</div>"
      ],
      "text/plain": [
       "                                             dirty_name dirty_label  \\\n",
       "14                                        imibono fuels     Company   \n",
       "17                               prof. frederick turner     Company   \n",
       "23                                        kenny coursor     Company   \n",
       "28                                      keeley gabbidon     Company   \n",
       "32    photospace  topicstorm bubbletube zoomlounge f...     Company   \n",
       "...                                                 ...         ...   \n",
       "4461            blue sky leisure developments (pty) ltd      Person   \n",
       "4498                                 marie-josée rowsel     Company   \n",
       "4510                                     fikile ndebele     Company   \n",
       "4511                                     fikile ndebele     Company   \n",
       "4512                                   fikile m ndebele     Company   \n",
       "\n",
       "     semi_clean_label  \n",
       "14             Person  \n",
       "17             Person  \n",
       "23             Person  \n",
       "28             Person  \n",
       "32             Person  \n",
       "...               ...  \n",
       "4461          Company  \n",
       "4498           Person  \n",
       "4510           Person  \n",
       "4511           Person  \n",
       "4512           Person  \n",
       "\n",
       "[347 rows x 3 columns]"
      ]
     },
     "execution_count": 234,
     "metadata": {},
     "output_type": "execute_result"
    }
   ],
   "source": [
    "data[(data.dirty_label != data.semi_clean_label)]"
   ]
  },
  {
   "cell_type": "code",
   "execution_count": null,
   "metadata": {},
   "outputs": [],
   "source": []
  }
 ],
 "metadata": {
  "kernelspec": {
   "display_name": "Python 3",
   "language": "python",
   "name": "python3"
  },
  "language_info": {
   "codemirror_mode": {
    "name": "ipython",
    "version": 3
   },
   "file_extension": ".py",
   "mimetype": "text/x-python",
   "name": "python",
   "nbconvert_exporter": "python",
   "pygments_lexer": "ipython3",
   "version": "3.7.9"
  }
 },
 "nbformat": 4,
 "nbformat_minor": 4
}
